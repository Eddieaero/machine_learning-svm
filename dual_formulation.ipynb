{
 "cells": [
  {
   "cell_type": "markdown",
   "metadata": {},
   "source": [
    "#Task"
   ]
  },
  {
   "cell_type": "markdown",
   "metadata": {},
   "source": [
    "##The task is to build a Support Vector Machine for classification. You will make\n",
    "use of a library routine to solve the optimization problem which emerges in the\n",
    "dual formulation of the support vector machine. You need to write code for\n",
    "structuring the data so that the library routine can find the maximal-margin\n",
    "solution, and code for transforming this solution into a classifier which can\n",
    "process new data."
   ]
  },
  {
   "cell_type": "markdown",
   "metadata": {},
   "source": [
    "import numpy as np\n",
    "import scipy as sc\n",
    "import matplotlib as mtp\n"
   ]
  }
 ],
 "metadata": {
  "language_info": {
   "name": "python"
  }
 },
 "nbformat": 4,
 "nbformat_minor": 2
}
